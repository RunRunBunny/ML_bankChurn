{
 "cells": [
  {
   "cell_type": "code",
   "execution_count": 15,
   "id": "96bdecaf",
   "metadata": {},
   "outputs": [],
   "source": [
    "import pandas as pd\n",
    "import numpy as np\n",
    "import seaborn as sns\n",
    "import matplotlib.pyplot as plt\n",
    "from sklearn.linear_model import LogisticRegression  \n",
    "from sklearn.neighbors import KNeighborsClassifier  \n",
    "from sklearn.svm import SVC\n",
    "from sklearn.tree import DecisionTreeClassifier \n",
    "from sklearn.ensemble import RandomForestClassifier\n",
    "from xgboost import XGBClassifier\n",
    "from lightgbm import LGBMClassifier\n",
    "from sklearn.ensemble import GradientBoostingClassifier\n",
    "from sklearn.model_selection import train_test_split\n",
    "from sklearn import preprocessing\n",
    "from sklearn.metrics import accuracy_score\n",
    "from sklearn.model_selection import KFold\n",
    "from sklearn.model_selection import cross_val_score, GridSearchCV\n",
    "import warnings\n",
    "warnings.filterwarnings(\"ignore\", category=DeprecationWarning) \n",
    "warnings.filterwarnings(\"ignore\", category=FutureWarning) \n",
    "warnings.filterwarnings(\"ignore\", category=UserWarning) \n",
    "\n",
    "%config InlineBackend.figure_format = 'retina'\n",
    "\n",
    "# to display all columns and rows:\n",
    "pd.set_option('display.max_columns', None); pd.set_option('display.max_rows', None);"
   ]
  },
  {
   "cell_type": "code",
   "execution_count": 16,
   "id": "65ba62ce",
   "metadata": {},
   "outputs": [],
   "source": [
    "# Reading the dataset\n",
    "df = pd.read_csv(\"churn.csv\", index_col=0)\n",
    "df.columns = map(str.lower, df.columns)"
   ]
  },
  {
   "cell_type": "code",
   "execution_count": null,
   "id": "b86408ec",
   "metadata": {},
   "outputs": [],
   "source": [
    "df.head()"
   ]
  },
  {
   "cell_type": "code",
   "execution_count": null,
   "id": "09216e68",
   "metadata": {},
   "outputs": [],
   "source": [
    "df.shape"
   ]
  },
  {
   "cell_type": "code",
   "execution_count": null,
   "id": "758d6a6a",
   "metadata": {},
   "outputs": [],
   "source": [
    "df.info()"
   ]
  },
  {
   "cell_type": "code",
   "execution_count": null,
   "id": "c0345800",
   "metadata": {},
   "outputs": [],
   "source": [
    "df[\"exited\"].value_counts()"
   ]
  },
  {
   "cell_type": "code",
   "execution_count": 29,
   "id": "a20644f7",
   "metadata": {},
   "outputs": [],
   "source": [
    "# Access to those who left us through the dependent variable. (exited == 1)\n",
    "churn = df[df[\"exited\"] == 1]"
   ]
  },
  {
   "cell_type": "code",
   "execution_count": 30,
   "id": "924cdf4d",
   "metadata": {},
   "outputs": [
    {
     "data": {
      "text/html": [
       "<div>\n",
       "<style scoped>\n",
       "    .dataframe tbody tr th:only-of-type {\n",
       "        vertical-align: middle;\n",
       "    }\n",
       "\n",
       "    .dataframe tbody tr th {\n",
       "        vertical-align: top;\n",
       "    }\n",
       "\n",
       "    .dataframe thead th {\n",
       "        text-align: right;\n",
       "    }\n",
       "</style>\n",
       "<table border=\"1\" class=\"dataframe\">\n",
       "  <thead>\n",
       "    <tr style=\"text-align: right;\">\n",
       "      <th></th>\n",
       "      <th>creditscore</th>\n",
       "      <th>age</th>\n",
       "      <th>tenure</th>\n",
       "      <th>balance</th>\n",
       "      <th>numofproducts</th>\n",
       "      <th>hascrcard</th>\n",
       "      <th>isactivemember</th>\n",
       "      <th>estimatedsalary</th>\n",
       "      <th>exited</th>\n",
       "      <th>NewAGT</th>\n",
       "      <th>geography_Germany</th>\n",
       "      <th>geography_Spain</th>\n",
       "      <th>gender_Male</th>\n",
       "    </tr>\n",
       "    <tr>\n",
       "      <th>RowNumber</th>\n",
       "      <th></th>\n",
       "      <th></th>\n",
       "      <th></th>\n",
       "      <th></th>\n",
       "      <th></th>\n",
       "      <th></th>\n",
       "      <th></th>\n",
       "      <th></th>\n",
       "      <th></th>\n",
       "      <th></th>\n",
       "      <th></th>\n",
       "      <th></th>\n",
       "      <th></th>\n",
       "    </tr>\n",
       "  </thead>\n",
       "  <tbody>\n",
       "    <tr>\n",
       "      <th>1</th>\n",
       "      <td>619</td>\n",
       "      <td>42</td>\n",
       "      <td>2</td>\n",
       "      <td>0.00</td>\n",
       "      <td>1</td>\n",
       "      <td>1</td>\n",
       "      <td>1</td>\n",
       "      <td>101348.88</td>\n",
       "      <td>1</td>\n",
       "      <td>40</td>\n",
       "      <td>0</td>\n",
       "      <td>0</td>\n",
       "      <td>0</td>\n",
       "    </tr>\n",
       "    <tr>\n",
       "      <th>3</th>\n",
       "      <td>502</td>\n",
       "      <td>42</td>\n",
       "      <td>8</td>\n",
       "      <td>159660.80</td>\n",
       "      <td>3</td>\n",
       "      <td>1</td>\n",
       "      <td>0</td>\n",
       "      <td>113931.57</td>\n",
       "      <td>1</td>\n",
       "      <td>34</td>\n",
       "      <td>0</td>\n",
       "      <td>0</td>\n",
       "      <td>0</td>\n",
       "    </tr>\n",
       "    <tr>\n",
       "      <th>6</th>\n",
       "      <td>645</td>\n",
       "      <td>44</td>\n",
       "      <td>8</td>\n",
       "      <td>113755.78</td>\n",
       "      <td>2</td>\n",
       "      <td>1</td>\n",
       "      <td>0</td>\n",
       "      <td>149756.71</td>\n",
       "      <td>1</td>\n",
       "      <td>36</td>\n",
       "      <td>0</td>\n",
       "      <td>1</td>\n",
       "      <td>1</td>\n",
       "    </tr>\n",
       "    <tr>\n",
       "      <th>8</th>\n",
       "      <td>376</td>\n",
       "      <td>29</td>\n",
       "      <td>4</td>\n",
       "      <td>115046.74</td>\n",
       "      <td>4</td>\n",
       "      <td>1</td>\n",
       "      <td>0</td>\n",
       "      <td>119346.88</td>\n",
       "      <td>1</td>\n",
       "      <td>25</td>\n",
       "      <td>1</td>\n",
       "      <td>0</td>\n",
       "      <td>0</td>\n",
       "    </tr>\n",
       "    <tr>\n",
       "      <th>17</th>\n",
       "      <td>653</td>\n",
       "      <td>58</td>\n",
       "      <td>1</td>\n",
       "      <td>132602.88</td>\n",
       "      <td>1</td>\n",
       "      <td>1</td>\n",
       "      <td>0</td>\n",
       "      <td>5097.67</td>\n",
       "      <td>1</td>\n",
       "      <td>57</td>\n",
       "      <td>1</td>\n",
       "      <td>0</td>\n",
       "      <td>1</td>\n",
       "    </tr>\n",
       "  </tbody>\n",
       "</table>\n",
       "</div>"
      ],
      "text/plain": [
       "           creditscore  age  tenure    balance  numofproducts  hascrcard  \\\n",
       "RowNumber                                                                  \n",
       "1                  619   42       2       0.00              1          1   \n",
       "3                  502   42       8  159660.80              3          1   \n",
       "6                  645   44       8  113755.78              2          1   \n",
       "8                  376   29       4  115046.74              4          1   \n",
       "17                 653   58       1  132602.88              1          1   \n",
       "\n",
       "           isactivemember  estimatedsalary  exited  NewAGT  geography_Germany  \\\n",
       "RowNumber                                                                       \n",
       "1                       1        101348.88       1      40                  0   \n",
       "3                       0        113931.57       1      34                  0   \n",
       "6                       0        149756.71       1      36                  0   \n",
       "8                       0        119346.88       1      25                  1   \n",
       "17                      0          5097.67       1      57                  1   \n",
       "\n",
       "           geography_Spain  gender_Male  \n",
       "RowNumber                                \n",
       "1                        0            0  \n",
       "3                        0            0  \n",
       "6                        1            1  \n",
       "8                        0            0  \n",
       "17                       0            1  "
      ]
     },
     "execution_count": 30,
     "metadata": {},
     "output_type": "execute_result"
    }
   ],
   "source": [
    "churn.head()"
   ]
  },
  {
   "cell_type": "code",
   "execution_count": null,
   "id": "184904b2",
   "metadata": {},
   "outputs": [],
   "source": [
    "df.groupby(\"gender\").agg({\"age\": \"mean\"})"
   ]
  },
  {
   "cell_type": "code",
   "execution_count": null,
   "id": "bbf7350b",
   "metadata": {},
   "outputs": [],
   "source": [
    "churn.groupby(\"gender\").agg({\"age\": \"mean\"})"
   ]
  },
  {
   "cell_type": "code",
   "execution_count": null,
   "id": "7ff724cf",
   "metadata": {},
   "outputs": [],
   "source": [
    "# Which country has left the bank the most?\n",
    "churn.groupby(\"geography\").agg({\"exited\": \"count\"})"
   ]
  },
  {
   "cell_type": "code",
   "execution_count": null,
   "id": "8df1aad0",
   "metadata": {},
   "outputs": [],
   "source": [
    "non_churn = df[df[\"exited\"] == 0]"
   ]
  },
  {
   "cell_type": "code",
   "execution_count": null,
   "id": "15e93f7d",
   "metadata": {},
   "outputs": [],
   "source": [
    "non_churn.head()"
   ]
  },
  {
   "cell_type": "code",
   "execution_count": null,
   "id": "4337668e",
   "metadata": {},
   "outputs": [],
   "source": [
    "non_churn.groupby(\"geography\").agg({\"exited\": \"count\"})"
   ]
  },
  {
   "cell_type": "code",
   "execution_count": null,
   "id": "cc865d92",
   "metadata": {},
   "outputs": [],
   "source": [
    "df.corr()"
   ]
  },
  {
   "cell_type": "code",
   "execution_count": null,
   "id": "7b23514c",
   "metadata": {},
   "outputs": [],
   "source": [
    "# Plotted the categorical variables on the basis of the graph of the column according to the dependent variable.\n",
    "fig, axarr = plt.subplots(2, 2, figsize=(20, 12))\n",
    "sns.countplot(x='geography', hue = 'exited',data = df, ax=axarr[0][0])\n",
    "sns.countplot(x='gender', hue = 'exited',data = df, ax=axarr[0][1])\n",
    "sns.countplot(x='hascrcard', hue = 'exited',data = df, ax=axarr[1][0])\n",
    "sns.countplot(x='isactivemember', hue = 'exited',data = df, ax=axarr[1][1])"
   ]
  },
  {
   "cell_type": "code",
   "execution_count": null,
   "id": "7c54e88d",
   "metadata": {},
   "outputs": [],
   "source": [
    "# Correlation Matrix\n",
    "f, ax = plt.subplots(figsize= [20,15])\n",
    "sns.heatmap(df.corr(), annot=True, fmt=\".2f\", ax=ax, cmap = \"magma\" )\n",
    "ax.set_title(\"Correlation Matrix\", fontsize=20)\n",
    "plt.show()"
   ]
  },
  {
   "cell_type": "code",
   "execution_count": 17,
   "id": "c4d3a7c0",
   "metadata": {},
   "outputs": [],
   "source": [
    "#Data Preprocessing\n",
    "df[\"NewAGT\"] = df[\"age\"] - df[\"tenure\"]\n",
    "# df[\"CreditsScore\"] = pd.qcut(df['creditscore'], 10, labels = [1, 2, 3, 4, 5, 6, 7, 8, 9, 10])\n",
    "# df[\"AgeScore\"] = pd.qcut(df['age'], 8, labels = [1, 2, 3, 4, 5, 6, 7, 8])\n",
    "# df[\"BalanceScore\"] = pd.qcut(df['balance'].rank(method=\"first\"), 10, labels = [1, 2, 3, 4, 5, 6, 7, 8, 9, 10])\n",
    "# df[\"EstSalaryScore\"] = pd.qcut(df['estimatedsalary'], 10, labels = [1, 2, 3, 4, 5, 6, 7, 8, 9, 10])\n",
    "# df[\"NewEstimatedSalary\"] = df[\"estimatedsalary\"] / 12 "
   ]
  },
  {
   "cell_type": "code",
   "execution_count": null,
   "id": "19a0ffdb",
   "metadata": {},
   "outputs": [],
   "source": [
    "df.head()"
   ]
  },
  {
   "cell_type": "code",
   "execution_count": 18,
   "id": "6f392f83",
   "metadata": {},
   "outputs": [
    {
     "data": {
      "text/html": [
       "<div>\n",
       "<style scoped>\n",
       "    .dataframe tbody tr th:only-of-type {\n",
       "        vertical-align: middle;\n",
       "    }\n",
       "\n",
       "    .dataframe tbody tr th {\n",
       "        vertical-align: top;\n",
       "    }\n",
       "\n",
       "    .dataframe thead th {\n",
       "        text-align: right;\n",
       "    }\n",
       "</style>\n",
       "<table border=\"1\" class=\"dataframe\">\n",
       "  <thead>\n",
       "    <tr style=\"text-align: right;\">\n",
       "      <th></th>\n",
       "      <th>customerid</th>\n",
       "      <th>surname</th>\n",
       "      <th>creditscore</th>\n",
       "      <th>age</th>\n",
       "      <th>tenure</th>\n",
       "      <th>balance</th>\n",
       "      <th>numofproducts</th>\n",
       "      <th>hascrcard</th>\n",
       "      <th>isactivemember</th>\n",
       "      <th>estimatedsalary</th>\n",
       "      <th>exited</th>\n",
       "      <th>NewAGT</th>\n",
       "      <th>geography_Germany</th>\n",
       "      <th>geography_Spain</th>\n",
       "      <th>gender_Male</th>\n",
       "    </tr>\n",
       "    <tr>\n",
       "      <th>RowNumber</th>\n",
       "      <th></th>\n",
       "      <th></th>\n",
       "      <th></th>\n",
       "      <th></th>\n",
       "      <th></th>\n",
       "      <th></th>\n",
       "      <th></th>\n",
       "      <th></th>\n",
       "      <th></th>\n",
       "      <th></th>\n",
       "      <th></th>\n",
       "      <th></th>\n",
       "      <th></th>\n",
       "      <th></th>\n",
       "      <th></th>\n",
       "    </tr>\n",
       "  </thead>\n",
       "  <tbody>\n",
       "    <tr>\n",
       "      <th>1</th>\n",
       "      <td>15634602</td>\n",
       "      <td>Hargrave</td>\n",
       "      <td>619</td>\n",
       "      <td>42</td>\n",
       "      <td>2</td>\n",
       "      <td>0.00</td>\n",
       "      <td>1</td>\n",
       "      <td>1</td>\n",
       "      <td>1</td>\n",
       "      <td>101348.88</td>\n",
       "      <td>1</td>\n",
       "      <td>40</td>\n",
       "      <td>0</td>\n",
       "      <td>0</td>\n",
       "      <td>0</td>\n",
       "    </tr>\n",
       "    <tr>\n",
       "      <th>2</th>\n",
       "      <td>15647311</td>\n",
       "      <td>Hill</td>\n",
       "      <td>608</td>\n",
       "      <td>41</td>\n",
       "      <td>1</td>\n",
       "      <td>83807.86</td>\n",
       "      <td>1</td>\n",
       "      <td>0</td>\n",
       "      <td>1</td>\n",
       "      <td>112542.58</td>\n",
       "      <td>0</td>\n",
       "      <td>40</td>\n",
       "      <td>0</td>\n",
       "      <td>1</td>\n",
       "      <td>0</td>\n",
       "    </tr>\n",
       "    <tr>\n",
       "      <th>3</th>\n",
       "      <td>15619304</td>\n",
       "      <td>Onio</td>\n",
       "      <td>502</td>\n",
       "      <td>42</td>\n",
       "      <td>8</td>\n",
       "      <td>159660.80</td>\n",
       "      <td>3</td>\n",
       "      <td>1</td>\n",
       "      <td>0</td>\n",
       "      <td>113931.57</td>\n",
       "      <td>1</td>\n",
       "      <td>34</td>\n",
       "      <td>0</td>\n",
       "      <td>0</td>\n",
       "      <td>0</td>\n",
       "    </tr>\n",
       "    <tr>\n",
       "      <th>4</th>\n",
       "      <td>15701354</td>\n",
       "      <td>Boni</td>\n",
       "      <td>699</td>\n",
       "      <td>39</td>\n",
       "      <td>1</td>\n",
       "      <td>0.00</td>\n",
       "      <td>2</td>\n",
       "      <td>0</td>\n",
       "      <td>0</td>\n",
       "      <td>93826.63</td>\n",
       "      <td>0</td>\n",
       "      <td>38</td>\n",
       "      <td>0</td>\n",
       "      <td>0</td>\n",
       "      <td>0</td>\n",
       "    </tr>\n",
       "    <tr>\n",
       "      <th>5</th>\n",
       "      <td>15737888</td>\n",
       "      <td>Mitchell</td>\n",
       "      <td>850</td>\n",
       "      <td>43</td>\n",
       "      <td>2</td>\n",
       "      <td>125510.82</td>\n",
       "      <td>1</td>\n",
       "      <td>1</td>\n",
       "      <td>1</td>\n",
       "      <td>79084.10</td>\n",
       "      <td>0</td>\n",
       "      <td>41</td>\n",
       "      <td>0</td>\n",
       "      <td>1</td>\n",
       "      <td>0</td>\n",
       "    </tr>\n",
       "  </tbody>\n",
       "</table>\n",
       "</div>"
      ],
      "text/plain": [
       "           customerid   surname  creditscore  age  tenure    balance  \\\n",
       "RowNumber                                                              \n",
       "1            15634602  Hargrave          619   42       2       0.00   \n",
       "2            15647311      Hill          608   41       1   83807.86   \n",
       "3            15619304      Onio          502   42       8  159660.80   \n",
       "4            15701354      Boni          699   39       1       0.00   \n",
       "5            15737888  Mitchell          850   43       2  125510.82   \n",
       "\n",
       "           numofproducts  hascrcard  isactivemember  estimatedsalary  exited  \\\n",
       "RowNumber                                                                      \n",
       "1                      1          1               1        101348.88       1   \n",
       "2                      1          0               1        112542.58       0   \n",
       "3                      3          1               0        113931.57       1   \n",
       "4                      2          0               0         93826.63       0   \n",
       "5                      1          1               1         79084.10       0   \n",
       "\n",
       "           NewAGT  geography_Germany  geography_Spain  gender_Male  \n",
       "RowNumber                                                           \n",
       "1              40                  0                0            0  \n",
       "2              40                  0                1            0  \n",
       "3              34                  0                0            0  \n",
       "4              38                  0                0            0  \n",
       "5              41                  0                1            0  "
      ]
     },
     "execution_count": 18,
     "metadata": {},
     "output_type": "execute_result"
    }
   ],
   "source": [
    "df = pd.get_dummies(df, columns =[\"geography\", \"gender\"], drop_first = True)\n",
    "df.head()"
   ]
  },
  {
   "cell_type": "code",
   "execution_count": 19,
   "id": "273de6aa",
   "metadata": {},
   "outputs": [],
   "source": [
    "df = df.drop([\"customerid\",\"surname\"], axis = 1)\n",
    "cat_df = df[[\"geography_Germany\", \"geography_Spain\", \"gender_Male\", \"hascrcard\",\"isactivemember\"]]\n"
   ]
  },
  {
   "cell_type": "code",
   "execution_count": 20,
   "id": "a088ee43",
   "metadata": {},
   "outputs": [],
   "source": [
    "y = df[\"exited\"]\n",
    "X = df.drop([\"exited\",\"geography_Germany\", \"geography_Spain\", \"gender_Male\", \"hascrcard\",\"isactivemember\"], axis = 1)\n",
    "cols = X.columns\n",
    "index = X.index"
   ]
  },
  {
   "cell_type": "code",
   "execution_count": 21,
   "id": "b2e19782",
   "metadata": {},
   "outputs": [
    {
     "data": {
      "text/html": [
       "<div>\n",
       "<style scoped>\n",
       "    .dataframe tbody tr th:only-of-type {\n",
       "        vertical-align: middle;\n",
       "    }\n",
       "\n",
       "    .dataframe tbody tr th {\n",
       "        vertical-align: top;\n",
       "    }\n",
       "\n",
       "    .dataframe thead th {\n",
       "        text-align: right;\n",
       "    }\n",
       "</style>\n",
       "<table border=\"1\" class=\"dataframe\">\n",
       "  <thead>\n",
       "    <tr style=\"text-align: right;\">\n",
       "      <th></th>\n",
       "      <th>creditscore</th>\n",
       "      <th>age</th>\n",
       "      <th>tenure</th>\n",
       "      <th>balance</th>\n",
       "      <th>numofproducts</th>\n",
       "      <th>estimatedsalary</th>\n",
       "      <th>NewAGT</th>\n",
       "    </tr>\n",
       "    <tr>\n",
       "      <th>RowNumber</th>\n",
       "      <th></th>\n",
       "      <th></th>\n",
       "      <th></th>\n",
       "      <th></th>\n",
       "      <th></th>\n",
       "      <th></th>\n",
       "      <th></th>\n",
       "    </tr>\n",
       "  </thead>\n",
       "  <tbody>\n",
       "    <tr>\n",
       "      <th>1</th>\n",
       "      <td>619</td>\n",
       "      <td>42</td>\n",
       "      <td>2</td>\n",
       "      <td>0.00</td>\n",
       "      <td>1</td>\n",
       "      <td>101348.88</td>\n",
       "      <td>40</td>\n",
       "    </tr>\n",
       "    <tr>\n",
       "      <th>2</th>\n",
       "      <td>608</td>\n",
       "      <td>41</td>\n",
       "      <td>1</td>\n",
       "      <td>83807.86</td>\n",
       "      <td>1</td>\n",
       "      <td>112542.58</td>\n",
       "      <td>40</td>\n",
       "    </tr>\n",
       "    <tr>\n",
       "      <th>3</th>\n",
       "      <td>502</td>\n",
       "      <td>42</td>\n",
       "      <td>8</td>\n",
       "      <td>159660.80</td>\n",
       "      <td>3</td>\n",
       "      <td>113931.57</td>\n",
       "      <td>34</td>\n",
       "    </tr>\n",
       "    <tr>\n",
       "      <th>4</th>\n",
       "      <td>699</td>\n",
       "      <td>39</td>\n",
       "      <td>1</td>\n",
       "      <td>0.00</td>\n",
       "      <td>2</td>\n",
       "      <td>93826.63</td>\n",
       "      <td>38</td>\n",
       "    </tr>\n",
       "    <tr>\n",
       "      <th>5</th>\n",
       "      <td>850</td>\n",
       "      <td>43</td>\n",
       "      <td>2</td>\n",
       "      <td>125510.82</td>\n",
       "      <td>1</td>\n",
       "      <td>79084.10</td>\n",
       "      <td>41</td>\n",
       "    </tr>\n",
       "  </tbody>\n",
       "</table>\n",
       "</div>"
      ],
      "text/plain": [
       "           creditscore  age  tenure    balance  numofproducts  \\\n",
       "RowNumber                                                       \n",
       "1                  619   42       2       0.00              1   \n",
       "2                  608   41       1   83807.86              1   \n",
       "3                  502   42       8  159660.80              3   \n",
       "4                  699   39       1       0.00              2   \n",
       "5                  850   43       2  125510.82              1   \n",
       "\n",
       "           estimatedsalary  NewAGT  \n",
       "RowNumber                           \n",
       "1                101348.88      40  \n",
       "2                112542.58      40  \n",
       "3                113931.57      34  \n",
       "4                 93826.63      38  \n",
       "5                 79084.10      41  "
      ]
     },
     "execution_count": 21,
     "metadata": {},
     "output_type": "execute_result"
    }
   ],
   "source": [
    "X.head()"
   ]
  },
  {
   "cell_type": "code",
   "execution_count": 23,
   "id": "f83c2639",
   "metadata": {},
   "outputs": [
    {
     "data": {
      "text/plain": [
       "array([-0.24626866,  0.41666667, -0.75      , -0.76148003,  0.        ,\n",
       "        0.0117391 ,  0.66666667])"
      ]
     },
     "execution_count": 23,
     "metadata": {},
     "output_type": "execute_result"
    }
   ],
   "source": [
    "from sklearn.preprocessing import RobustScaler\n",
    "transformer = RobustScaler().fit(X)\n",
    "X = transformer.transform(X)\n",
    "X[0]\n",
    "# X = pd.DataFrame(X, columns = cols, index = index)"
   ]
  },
  {
   "cell_type": "code",
   "execution_count": null,
   "id": "74c939aa",
   "metadata": {},
   "outputs": [],
   "source": [
    "X = pd.concat([X,cat_df], axis = 1)"
   ]
  },
  {
   "cell_type": "code",
   "execution_count": null,
   "id": "88fe95ec",
   "metadata": {},
   "outputs": [],
   "source": [
    "X.head()"
   ]
  },
  {
   "cell_type": "code",
   "execution_count": null,
   "id": "3e5b42cc",
   "metadata": {},
   "outputs": [],
   "source": [
    "#Train-Test Split\n",
    "X_train, X_test, y_train, y_test = train_test_split(X, y, test_size=0.20, random_state=42)"
   ]
  },
  {
   "cell_type": "code",
   "execution_count": null,
   "id": "a8d49365",
   "metadata": {},
   "outputs": [],
   "source": [
    "# Because it's an unstable data set, we're going to increase the number of samples.\n",
    "# References: https://imbalanced-learn.readthedocs.io/en/stable/generated/imblearn.combine.SMOTETomek.html\n",
    "from imblearn.combine import SMOTETomek\n",
    "\n",
    "smk = SMOTETomek()\n",
    "# Oversample training  data\n",
    "X_train, y_train = smk.fit_resample(X_train, y_train)\n",
    "\n",
    "# Oversample validation data\n",
    "X_test, y_test = smk.fit_resample(X_test, y_test)"
   ]
  },
  {
   "cell_type": "code",
   "execution_count": null,
   "id": "a43c7323",
   "metadata": {},
   "outputs": [],
   "source": [
    "print(X_train.shape, X_test.shape, y_train.shape, y_test.shape)"
   ]
  },
  {
   "cell_type": "code",
   "execution_count": null,
   "id": "0047f091",
   "metadata": {},
   "outputs": [],
   "source": [
    "#Modelling\n",
    "models = []\n",
    "models.append(('LR', LogisticRegression(random_state = 42)))\n",
    "models.append(('KNN', KNeighborsClassifier()))\n",
    "models.append(('CART', DecisionTreeClassifier(random_state = 42)))\n",
    "models.append(('RF', RandomForestClassifier(random_state = 42)))\n",
    "models.append(('SVM', SVC(gamma='auto', random_state = 42)))\n",
    "models.append(('XGB', GradientBoostingClassifier(random_state = 42)))\n",
    "models.append((\"LightGBM\", LGBMClassifier(random_state = 42)))\n",
    "\n",
    "# evaluate each model in turn\n",
    "results = []\n",
    "names = []"
   ]
  },
  {
   "cell_type": "code",
   "execution_count": null,
   "id": "f00a6b1c",
   "metadata": {},
   "outputs": [],
   "source": [
    "for name, model in models:\n",
    "        model.fit(X_train, y_train)\n",
    "        y_pred = model.predict(X_test)\n",
    "        accuracy = accuracy_score(y_test, y_pred)\n",
    "        msg = \"%s: (%f)\" % (name, accuracy)\n",
    "        print(msg)"
   ]
  },
  {
   "cell_type": "code",
   "execution_count": null,
   "id": "618dd2d5",
   "metadata": {},
   "outputs": [],
   "source": [
    "# Hyperparameters have previously been obtained with the help of GridSearchCV.\n",
    "models = []\n",
    "models.append(('XGB', GradientBoostingClassifier(random_state = 42,learning_rate = 0.05, max_depth = 5, min_samples_split = 2, n_estimators = 500, subsample = 0.8)))\n",
    "models.append((\"LightGBM\", LGBMClassifier(random_state = 42,  learning_rate = 0.05, max_depth = 3, n_estimators = 1000)))\n",
    "\n",
    "# evaluate each model in turn\n",
    "results = []\n",
    "names = []\n",
    "\n",
    "for name, model in models:\n",
    "        model.fit(X_train, y_train)\n",
    "        y_pred = model.predict(X_test)\n",
    "        accuracy = accuracy_score(y_test, y_pred)\n",
    "        msg = \"%s: (%f)\" % (name, accuracy)\n",
    "        print(msg)"
   ]
  },
  {
   "cell_type": "code",
   "execution_count": null,
   "id": "4d33f6ed",
   "metadata": {},
   "outputs": [],
   "source": [
    "models2 = []\n",
    "models2.append((\"LightGBM\", LGBMClassifier(random_state = 42,  learning_rate = 0.05, max_depth = 3, n_estimators = 1000)))\n",
    "\n",
    "# evaluate each model in turn\n",
    "results = []\n",
    "names = []\n",
    "\n",
    "for name, model in models2:\n",
    "        base = model.fit(X_train,y_train)\n",
    "        y_pred = base.predict(X_test)\n",
    "        acc_score = accuracy_score(y_test, y_pred)\n",
    "        feature_imp = pd.Series(base.feature_importances_,\n",
    "                        index=X.columns).sort_values(ascending=False)\n",
    "\n",
    "        sns.barplot(x=feature_imp, y=feature_imp.index)\n",
    "        plt.xlabel('Variable Importance Scores')\n",
    "        plt.ylabel('Variables')\n",
    "        plt.title(name)\n",
    "        plt.show()"
   ]
  },
  {
   "cell_type": "code",
   "execution_count": null,
   "id": "af794151",
   "metadata": {},
   "outputs": [],
   "source": [
    "#Confusion Matrix\n",
    "from sklearn.metrics import  accuracy_score, f1_score, precision_score,confusion_matrix, recall_score, roc_auc_score\n",
    "y_pred = model.predict(X_test)\n",
    "cm_xgb = confusion_matrix(y_test, y_pred=y_pred)\n",
    "\n",
    "TP = cm_xgb[1, 1]\n",
    "TN = cm_xgb[0, 0]\n",
    "FP = cm_xgb[0, 1]\n",
    "FN = cm_xgb[1, 0]"
   ]
  },
  {
   "cell_type": "code",
   "execution_count": null,
   "id": "1e5f4538",
   "metadata": {},
   "outputs": [],
   "source": [
    "from matplotlib import rc,rcParams\n",
    "def plot_confusion_matrix(cm, classes,\n",
    "                          title='Confusion matrix',\n",
    "                          cmap=plt.cm.Blues):\n",
    "\n",
    "    plt.rcParams.update({'font.size': 19})\n",
    "    plt.imshow(cm, interpolation='nearest', cmap=cmap)\n",
    "    plt.title(title,fontdict={'size':'16'})\n",
    "    plt.colorbar()\n",
    "    tick_marks = np.arange(len(classes))\n",
    "    plt.xticks(tick_marks, classes, rotation=45,fontsize=12,color=\"blue\")\n",
    "    plt.yticks(tick_marks, classes,fontsize=12,color=\"blue\")\n",
    "    rc('font', weight='bold')\n",
    "    fmt = '.1f'\n",
    "    thresh = cm.max()\n",
    "    for i, j in itertools.product(range(cm.shape[0]), range(cm.shape[1])):\n",
    "        plt.text(j, i, format(cm[i, j], fmt),\n",
    "                 horizontalalignment=\"center\",\n",
    "                 color=\"red\")\n",
    "\n",
    "    plt.ylabel('True label',fontdict={'size':'16'})\n",
    "    plt.xlabel('Predicted label',fontdict={'size':'16'})\n",
    "    plt.tight_layout()"
   ]
  },
  {
   "cell_type": "code",
   "execution_count": null,
   "id": "2d2d9172",
   "metadata": {},
   "outputs": [],
   "source": [
    "import itertools\n",
    "plot_confusion_matrix(confusion_matrix(y_test, y_pred=y_pred), classes=['Non Churn','Churn'],\n",
    "                      title='Confusion matrix')"
   ]
  },
  {
   "cell_type": "code",
   "execution_count": null,
   "id": "2f659fcc",
   "metadata": {},
   "outputs": [],
   "source": [
    "tn, fp, fn, tp = cm_xgb.ravel()\n",
    "print(\"True Negatives: \",tn)\n",
    "print(\"False Positives: \",fp)\n",
    "print(\"False Negatives: \",fn)\n",
    "print(\"True Positives: \",tp)"
   ]
  },
  {
   "cell_type": "code",
   "execution_count": null,
   "id": "a71360b9",
   "metadata": {},
   "outputs": [],
   "source": [
    "df_pred = pd.DataFrame(data=[],columns=[\"y_test\"])\n",
    "df_pred[\"y_pred\"] = y_pred\n",
    "df_pred[\"y_test\"] = y_test\n",
    "df_pred.index = df_pred.index + 1\n",
    "df_pred.head()"
   ]
  },
  {
   "cell_type": "code",
   "execution_count": null,
   "id": "a4787e92",
   "metadata": {},
   "outputs": [],
   "source": [
    "df_pred.tail()"
   ]
  },
  {
   "cell_type": "code",
   "execution_count": null,
   "id": "3f79b26c",
   "metadata": {},
   "outputs": [],
   "source": [
    "FP_predicts_indexes = [] \n",
    "TP_predicts_indexes=[]\n",
    "FN_predict_indexes =[]\n",
    "TN_predicts_indexes  = []\n",
    "for index, row in df_pred.iterrows():\n",
    "    if row['y_test'] == 0 and row['y_pred'] == 1:\n",
    "        FP_predicts_indexes.append(row.name)\n",
    "    elif row['y_test'] == 1 and row['y_pred'] == 1:\n",
    "        TP_predicts_indexes.append(row.name)\n",
    "    elif row['y_test'] == 0 and row['y_pred'] == 0:\n",
    "        TN_predicts_indexes.append(row.name)\n",
    "    elif row['y_test'] == 1 and row['y_pred'] == 0:\n",
    "        FN_predict_indexes.append(row.name)    "
   ]
  },
  {
   "cell_type": "code",
   "execution_count": null,
   "id": "0f5008c9",
   "metadata": {},
   "outputs": [],
   "source": [
    "df_pred.loc[TN_predicts_indexes,\"prediction_result\"] = \"TN\"\n",
    "df_pred.loc[TP_predicts_indexes,\"prediction_result\"] = \"TP\"\n",
    "df_pred.loc[FP_predicts_indexes,\"prediction_result\"] = \"FP\"\n",
    "df_pred.loc[FN_predict_indexes,\"prediction_result\"] = \"FN\"\n",
    "df_pred.head()"
   ]
  },
  {
   "cell_type": "code",
   "execution_count": null,
   "id": "8289e5b1",
   "metadata": {},
   "outputs": [],
   "source": [
    "lbgm_tuned = model\n",
    "from sklearn.metrics import confusion_matrix, classification_report, roc_auc_score, precision_recall_curve, roc_curve, auc, average_precision_score\n",
    "y_pred_prob = lbgm_tuned.predict_proba(X_test)[:,1]\n",
    "fig, ax = plt.subplots()\n",
    "fpr, tpr, thresholds_roc = roc_curve(y_test, y_pred_prob)\n",
    "roc_auc = auc(fpr,tpr)\n",
    "ax.plot(fpr,tpr, label = \" area = {:0.2f}\".format(roc_auc))\n",
    "ax.plot([0,1], [0,1], 'r', linestyle = \"--\", lw = 2)\n",
    "ax.set_xlabel(\"False Positive Rate\", fontsize = 10)\n",
    "ax.set_ylabel(\"True Positive Rate\", fontsize = 10)\n",
    "ax.set_title(\"ROC Curve\", fontsize = 18)\n",
    "ax.legend(loc = 'best')\n",
    "\n",
    "close_default = np.argmin(np.abs(thresholds_roc - 0.5))\n",
    "ax.plot(fpr[close_default], tpr[close_default], 'o', markersize = 8)\n",
    "plt.tight_layout()"
   ]
  },
  {
   "cell_type": "code",
   "execution_count": null,
   "id": "9860df37",
   "metadata": {},
   "outputs": [],
   "source": [
    "finalModel = LGBMClassifier(random_state = 42,  learning_rate = 0.05, max_depth = 3, n_estimators = 1000).fit(X_train,y_train)\n",
    "finalModel.predict(X_test)"
   ]
  },
  {
   "cell_type": "code",
   "execution_count": null,
   "id": "1fb8910e",
   "metadata": {},
   "outputs": [],
   "source": [
    "from joblib import dump\n",
    "dump(transformer,'scaler.bin', compress=True)\n",
    "dump(finalModel,'bankChurn.model')"
   ]
  }
 ],
 "metadata": {
  "kernelspec": {
   "display_name": "Python 3 (ipykernel)",
   "language": "python",
   "name": "python3"
  },
  "language_info": {
   "codemirror_mode": {
    "name": "ipython",
    "version": 3
   },
   "file_extension": ".py",
   "mimetype": "text/x-python",
   "name": "python",
   "nbconvert_exporter": "python",
   "pygments_lexer": "ipython3",
   "version": "3.10.9"
  }
 },
 "nbformat": 4,
 "nbformat_minor": 5
}
